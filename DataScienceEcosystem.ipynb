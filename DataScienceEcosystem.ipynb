{
  "metadata": {
    "kernelspec": {
      "name": "python",
      "display_name": "Python (Pyodide)",
      "language": "python"
    },
    "language_info": {
      "codemirror_mode": {
        "name": "python",
        "version": 3
      },
      "file_extension": ".py",
      "mimetype": "text/x-python",
      "name": "python",
      "nbconvert_exporter": "python",
      "pygments_lexer": "ipython3",
      "version": "3.8"
    }
  },
  "nbformat_minor": 4,
  "nbformat": 4,
  "cells": [
    {
      "cell_type": "markdown",
      "source": "# Data Science Tools and Ecosystem",
      "metadata": {}
    },
    {
      "cell_type": "markdown",
      "source": "## Author : Nizam Uddin",
      "metadata": {}
    },
    {
      "cell_type": "markdown",
      "source": "In this notebook, Data Science Tools and Ecosystem are summarized.",
      "metadata": {}
    },
    {
      "cell_type": "markdown",
      "source": "Some of the popular languages that Data Scientists use are:\n1. python\n2. R\n3. SQL",
      "metadata": {}
    },
    {
      "cell_type": "markdown",
      "source": "**OBJECTIVES :**\n  - Python Libraries\n  - Data science tools\n  - Arithmatic expression\n  \n",
      "metadata": {}
    },
    {
      "cell_type": "markdown",
      "source": "\nSome of the commonly used libraries used by Data Scientists include:\n\n1. # Python Libraries\n- NumPy: For numerical computing and handling large arrays/matrices.\n- Pandas: For data manipulation and analysis, especially for working with structured data (DataFrames).\n- Matplotlib: For data visualization through static plots and graphs.\n- Seaborn: Built on top of Matplotlib, providing more sophisticated statistical plotting.\n- Scikit-learn: For machine learning algorithms (classification, regression, clustering).\n- SciPy: For advanced mathematical and scientific computations.\n- TensorFlow: For deep learning, machine learning, and large-scale data processing.\n- PyTorch: A deep learning framework popular for research and production.\n- Keras: A high-level neural networks API (integrated with TensorFlow).\n- Statsmodels: For statistical analysis and modeling.\n- XGBoost / LightGBM / CatBoost: Optimized libraries for gradient boosting models.\n\n2. # Data Visualization Libraries\n- Plotly: For creating interactive plots and dashboards.\n- Bokeh: For interactive visualizations with web-based output.\n- Altair: Declarative statistical visualization library based on Vega-Lite.\n\n3. # Big Data & Distributed Computing\n- Dask: For parallel computing and working with large datasets that don’t fit into memory.\n- PySpark: Python API for Apache Spark, for large-scale data processing.\n\n4. # Natural Language Processing (NLP)\n- NLTK: For text processing and linguistic data analysis.\n- SpaCy: For NLP tasks like named entity recognition and tokenization.\n- Transformers (Hugging Face): For pre-trained models used in NLP and deep learning.\n\n5. **Data Access and Storage**\n- **SQLAlchemy**: For interacting with SQL databases from Python.\n- **h5py / PyTables**: For handling large datasets in HDF5 format.\n- **OpenCV**: For computer vision and image processing.\n\nThese libraries form the core ecosystem of tools used by data scientists, providing functionality for every stage of the data science workflow—from data wrangling to modeling, visualization, and deployment.",
      "metadata": {}
    },
    {
      "cell_type": "markdown",
      "source": "# Data Science Tools",
      "metadata": {}
    },
    {
      "cell_type": "code",
      "source": "import pandas as pd\n\n# Create a DataFrame\ndata = {'Tools': ['Python', 'R', 'SQL', 'Excel'],\n        'objectives': ['A versatile programming language with libraries like Pandas, NumPy, and SciPy','A statistical programming language ideal for data analysis and visualization.','For querying and manipulating structured data in databases','A spreadsheet tool for basic analysis, data cleaning, and visualization']}\n\ndf = pd.DataFrame(data)\n\n# Display the DataFrame \ndf\n",
      "metadata": {
        "trusted": true
      },
      "outputs": [
        {
          "execution_count": 3,
          "output_type": "execute_result",
          "data": {
            "text/plain": "    Tools                                         objectives\n0  Python  A versatile programming language with librarie...\n1       R  A statistical programming language ideal for d...\n2     SQL  For querying and manipulating structured data ...\n3   Excel  A spreadsheet tool for basic analysis, data cl...",
            "text/html": "<div>\n<style scoped>\n    .dataframe tbody tr th:only-of-type {\n        vertical-align: middle;\n    }\n\n    .dataframe tbody tr th {\n        vertical-align: top;\n    }\n\n    .dataframe thead th {\n        text-align: right;\n    }\n</style>\n<table border=\"1\" class=\"dataframe\">\n  <thead>\n    <tr style=\"text-align: right;\">\n      <th></th>\n      <th>Tools</th>\n      <th>objectives</th>\n    </tr>\n  </thead>\n  <tbody>\n    <tr>\n      <th>0</th>\n      <td>Python</td>\n      <td>A versatile programming language with librarie...</td>\n    </tr>\n    <tr>\n      <th>1</th>\n      <td>R</td>\n      <td>A statistical programming language ideal for d...</td>\n    </tr>\n    <tr>\n      <th>2</th>\n      <td>SQL</td>\n      <td>For querying and manipulating structured data ...</td>\n    </tr>\n    <tr>\n      <th>3</th>\n      <td>Excel</td>\n      <td>A spreadsheet tool for basic analysis, data cl...</td>\n    </tr>\n  </tbody>\n</table>\n</div>"
          },
          "metadata": {}
        }
      ],
      "execution_count": 3
    },
    {
      "cell_type": "markdown",
      "source": "## Below are a few examples of evaluating arithmetic expressions in Python",
      "metadata": {}
    },
    {
      "cell_type": "markdown",
      "source": "Basic Arithmetic Operations in Python\n\n1. Addition (`+`)\n   ```python\n   result = 5 + 3\n   print(result)  # Output: 8\n   ```\n\n2. Subtraction (`-`) \n   ```python\n   result = 10 - 4\n   print(result)  # Output: 6\n   ```\n\n3. Multiplication (`*`)  \n   ```python\n   result = 7 * 6\n   print(result)  # Output: 42\n   ```\n\n4. Division (`/`) (returns a float)  \n   ```python\n   result = 15 / 4\n   print(result)  # Output: 3.75\n   ```\n",
      "metadata": {}
    },
    {
      "cell_type": "code",
      "source": "#This a simple arithmetic expression to mutiply then add integers\n\n(3*4)+5\n",
      "metadata": {
        "trusted": true
      },
      "outputs": [
        {
          "execution_count": 4,
          "output_type": "execute_result",
          "data": {
            "text/plain": "17"
          },
          "metadata": {}
        }
      ],
      "execution_count": 4
    },
    {
      "cell_type": "code",
      "source": "#This will convert 200 minutes to hours by diving by 60\n\n200/60",
      "metadata": {
        "trusted": true
      },
      "outputs": [
        {
          "execution_count": 5,
          "output_type": "execute_result",
          "data": {
            "text/plain": "3.3333333333333335"
          },
          "metadata": {}
        }
      ],
      "execution_count": 5
    }
  ]
}